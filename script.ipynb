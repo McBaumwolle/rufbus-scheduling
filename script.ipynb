{
 "cells": [
  {
   "attachments": {},
   "cell_type": "markdown",
   "metadata": {},
   "source": [
    "Simple sccript to test locally. "
   ]
  },
  {
   "cell_type": "code",
   "execution_count": 1,
   "metadata": {},
   "outputs": [],
   "source": [
    "import json\n",
    "import requests\n",
    "import datetime\n",
    "\n",
    "from datetime import datetime"
   ]
  },
  {
   "cell_type": "code",
   "execution_count": 3,
   "metadata": {},
   "outputs": [],
   "source": [
    "# urls \n",
    "url_to = 'https://raw.githubusercontent.com/McBaumwolle/rufbus-scheduling/main/data/to_ing.json'\n",
    "url_from = 'https://raw.githubusercontent.com/McBaumwolle/rufbus-scheduling/main/data/from_ing.json'\n",
    "\n",
    "# load data \n",
    "data_to = json.loads(requests.get(url_to).text)\n",
    "data_from = json.loads(requests.get(url_from).text)"
   ]
  },
  {
   "cell_type": "code",
   "execution_count": 18,
   "metadata": {},
   "outputs": [],
   "source": [
    "# function that returns times for stop indicies (from, to) and time (hour) and also takes direction \n",
    "# dir: 0 = from, 1 = to\n",
    "# dep_loc: from 0 to 19\n",
    "# arr_loc: from 0 to 19\n",
    "def get_times(dir, dep_loc, arr_loc, hour):\n",
    "    # get data (based on direction)\n",
    "    if dir == 0:\n",
    "        data = data_from\n",
    "    else:\n",
    "        data = data_to\n",
    "\n",
    "    # convert hour to datetime\n",
    "    hour = datetime.strptime(hour, '%H:%M')\n",
    "        \n",
    "    # access data\n",
    "    stops = list(data.values())\n",
    "\n",
    "    # save schedule list\n",
    "    try: \n",
    "        dep_times = stops[dep_loc]\n",
    "        arr_times = stops[arr_loc]\n",
    "    except:\n",
    "        print('Error: Stop not found.') \n",
    "        return\n",
    "\n",
    "    # convert all times to datetime\n",
    "    dep_times = [datetime.strptime(x, '%H:%M') for x in dep_times]\n",
    "    arr_times = [datetime.strptime(x, '%H:%M') for x in arr_times]\n",
    "\n",
    "    # get nearest departure time using min and datetime\n",
    "    dep_time = min(dep_times, key=lambda x: abs(x - hour))\n",
    "\n",
    "    # get nearest arrival time using min and datetime\n",
    "    arr_time = min(arr_times, key=lambda x: abs(x - dep_time))\n",
    "\n",
    "    # get keys as stop_names\n",
    "    stop_names = list(data.keys())\n",
    "\n",
    "    # print selected stops\n",
    "    print('Departure stop: ' + stop_names[dep_loc])\n",
    "    print('Arrival stop: ' + stop_names[arr_loc])\n",
    "\n",
    "    return dep_time, arr_time"
   ]
  },
  {
   "cell_type": "code",
   "execution_count": 20,
   "metadata": {},
   "outputs": [
    {
     "name": "stdout",
     "output_type": "stream",
     "text": [
      "Departure stop: Puch, Am Feller\n",
      "Arrival stop: Baar-Ebenhausen, Bahnhof\n",
      "Departure time:  08:53\n",
      "Arrival time:    09:13\n"
     ]
    }
   ],
   "source": [
    "# test \n",
    "times = get_times(1, 12, 19, '09:00')\n",
    "\n",
    "# print \n",
    "print('Departure time:  ' + times[0].strftime('%H:%M'))\n",
    "print('Arrival time:    ' + times[1].strftime('%H:%M'))"
   ]
  }
 ],
 "metadata": {
  "kernelspec": {
   "display_name": "Python 3",
   "language": "python",
   "name": "python3"
  },
  "language_info": {
   "codemirror_mode": {
    "name": "ipython",
    "version": 3
   },
   "file_extension": ".py",
   "mimetype": "text/x-python",
   "name": "python",
   "nbconvert_exporter": "python",
   "pygments_lexer": "ipython3",
   "version": "3.11.3"
  },
  "orig_nbformat": 4
 },
 "nbformat": 4,
 "nbformat_minor": 2
}
