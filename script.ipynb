{
 "cells": [
  {
   "attachments": {},
   "cell_type": "markdown",
   "metadata": {},
   "source": [
    "Simple sccript to test locally. "
   ]
  },
  {
   "cell_type": "code",
   "execution_count": 9,
   "metadata": {},
   "outputs": [],
   "source": [
    "import json\n",
    "import requests"
   ]
  },
  {
   "cell_type": "code",
   "execution_count": 15,
   "metadata": {},
   "outputs": [],
   "source": [
    "# urls \n",
    "url_to = 'https://raw.githubusercontent.com/McBaumwolle/rufbus-scheduling/main/data/to_ing.json?token=GHSAT0AAAAAACA25V6LWAGIH56OEY4NCSSGZDPH5SA'\n",
    "url_from = 'https://raw.githubusercontent.com/McBaumwolle/rufbus-scheduling/main/data/from_ing.json?token=GHSAT0AAAAAACA25V6L2RBORPBL5C2PEXQCZDPIEJA'\n",
    "\n",
    "# load data \n",
    "data_to = json.loads(requests.get(url_to).text)\n",
    "data_from = json.loads(requests.get(url_from).text)"
   ]
  },
  {
   "cell_type": "code",
   "execution_count": null,
   "metadata": {},
   "outputs": [],
   "source": [
    "# function that returns times for stop indicies (from, to) and time (hour)\n",
    "def get_times(dep_loc, arr_loc, hour):\n",
    "    pass\n",
    "        "
   ]
  }
 ],
 "metadata": {
  "kernelspec": {
   "display_name": "Python 3",
   "language": "python",
   "name": "python3"
  },
  "language_info": {
   "codemirror_mode": {
    "name": "ipython",
    "version": 3
   },
   "file_extension": ".py",
   "mimetype": "text/x-python",
   "name": "python",
   "nbconvert_exporter": "python",
   "pygments_lexer": "ipython3",
   "version": "3.11.3"
  },
  "orig_nbformat": 4
 },
 "nbformat": 4,
 "nbformat_minor": 2
}
